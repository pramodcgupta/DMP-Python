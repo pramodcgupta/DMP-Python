{
 "cells": [
  {
   "cell_type": "markdown",
   "metadata": {},
   "source": [
    "## Python Logical Operators"
   ]
  },
  {
   "cell_type": "markdown",
   "metadata": {},
   "source": [
    "### Logical \"and\" Operator"
   ]
  },
  {
   "cell_type": "code",
   "execution_count": 6,
   "metadata": {},
   "outputs": [
    {
     "name": "stdout",
     "output_type": "stream",
     "text": [
      "I'm in logical AND block\n"
     ]
    }
   ],
   "source": [
    "#--------- Assigning value to variable Number 1 --------------\n",
    "num1=10\n",
    "\n",
    "#---------  Assigning value to variable Number 2 --------------\n",
    "num2=-20\n",
    "\n",
    "\n",
    "if num1 > 0 and num2 < 0: \n",
    "    print(\"I'm in logical AND block\")\n",
    "else:\n",
    "    print(\"Default block\")"
   ]
  },
  {
   "cell_type": "markdown",
   "metadata": {},
   "source": [
    "### Logical \"or\" Operator"
   ]
  },
  {
   "cell_type": "code",
   "execution_count": 8,
   "metadata": {},
   "outputs": [
    {
     "name": "stdout",
     "output_type": "stream",
     "text": [
      "I'm in logical OR block\n"
     ]
    }
   ],
   "source": [
    "#--------- Assigning value to variable Number 1 --------------\n",
    "num1=10\n",
    "\n",
    "#---------  Assigning value to variable Number 2 --------------\n",
    "num2=10\n",
    "\n",
    "\n",
    "if num1 > 0 or num2 < 0:                 ## First Condition is True but 2nd Condition is False\n",
    "    print(\"I'm in logical OR block\")"
   ]
  },
  {
   "cell_type": "markdown",
   "metadata": {},
   "source": [
    "### Logical \"not\" Operator"
   ]
  },
  {
   "cell_type": "code",
   "execution_count": 9,
   "metadata": {},
   "outputs": [
    {
     "name": "stdout",
     "output_type": "stream",
     "text": [
      "I'm in logical Not block\n"
     ]
    }
   ],
   "source": [
    "#--------- Assigning value to variable Number 1 --------------\n",
    "num1=10\n",
    "\n",
    "#---------  Assigning value to variable Number 2 --------------\n",
    "num2=10\n",
    "\n",
    "\n",
    "if not (num1+num2 > 20):                 ## Condition: num1+num2 > 20 is False. \n",
    "    print(\"I'm in logical Not block\")"
   ]
  },
  {
   "cell_type": "code",
   "execution_count": 10,
   "metadata": {},
   "outputs": [
    {
     "name": "stdout",
     "output_type": "stream",
     "text": [
      "I'm in logical Not block\n"
     ]
    }
   ],
   "source": [
    "## Method 2: Standard operators as function\n",
    "\n",
    "import operator\n",
    "\n",
    "#--------- Assigning value to variable Number 1 --------------\n",
    "num1=10\n",
    "\n",
    "#---------  Assigning value to variable Number 2 --------------\n",
    "num2=10\n",
    "\n",
    "#---------  Comparing 2 numbers with (==) Operator --------------\n",
    "if operator.not_(num1+num2 > 20):               ## Condition: num1+num2 > 20 is False.\n",
    "    print(\"I'm in logical Not block\")\n",
    "else:\n",
    "    pass"
   ]
  },
  {
   "cell_type": "code",
   "execution_count": null,
   "metadata": {},
   "outputs": [],
   "source": []
  }
 ],
 "metadata": {
  "kernelspec": {
   "display_name": "Python 3",
   "language": "python",
   "name": "python3"
  },
  "language_info": {
   "codemirror_mode": {
    "name": "ipython",
    "version": 3
   },
   "file_extension": ".py",
   "mimetype": "text/x-python",
   "name": "python",
   "nbconvert_exporter": "python",
   "pygments_lexer": "ipython3",
   "version": "3.7.7"
  }
 },
 "nbformat": 4,
 "nbformat_minor": 4
}
