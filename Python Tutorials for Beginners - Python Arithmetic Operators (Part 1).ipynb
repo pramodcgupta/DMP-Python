{
 "cells": [
  {
   "cell_type": "markdown",
   "metadata": {},
   "source": [
    "## Python Arithmetic Operators"
   ]
  },
  {
   "cell_type": "markdown",
   "metadata": {},
   "source": [
    "### Addition Operator"
   ]
  },
  {
   "cell_type": "code",
   "execution_count": 1,
   "metadata": {},
   "outputs": [
    {
     "name": "stdout",
     "output_type": "stream",
     "text": [
      "The Result is:  15 + 26 = 41\n"
     ]
    }
   ],
   "source": [
    "#--------- Assigning value to variable Number 1 --------------\n",
    "num1=15\n",
    "\n",
    "#---------  Assigning value to variable Number 2 --------------\n",
    "num2=26\n",
    "\n",
    "#---------  Add Two variables by using Addition (+) Operator --------------\n",
    "add=num1+num2\n",
    "\n",
    "print(\"The Result is:  {} + {} = {}\".format(num1, num2, add))"
   ]
  },
  {
   "cell_type": "code",
   "execution_count": 2,
   "metadata": {},
   "outputs": [
    {
     "name": "stdout",
     "output_type": "stream",
     "text": [
      "The Result is:  15 + 26 = 41\n"
     ]
    }
   ],
   "source": [
    "## Method 2: Standard operators as function\n",
    "\n",
    "import operator\n",
    "\n",
    "#--------- Assigning value to variable Number 1 --------------\n",
    "num1=15\n",
    "\n",
    "#---------  Assigning value to variable Number 2 --------------\n",
    "num2=26\n",
    "\n",
    "#---------  Add Two variables by using Addition (+) Operator --------------\n",
    "add=operator.add(num1,num2)\n",
    "\n",
    "print(\"The Result is:  {} + {} = {}\".format(num1, num2, add))"
   ]
  },
  {
   "cell_type": "markdown",
   "metadata": {},
   "source": [
    "### Subtraction Operator"
   ]
  },
  {
   "cell_type": "code",
   "execution_count": 3,
   "metadata": {},
   "outputs": [
    {
     "name": "stdout",
     "output_type": "stream",
     "text": [
      "The Result is:  50 - 26 = 24\n"
     ]
    }
   ],
   "source": [
    "#--------- Assigning value to variable Number 1 --------------\n",
    "num1=50\n",
    "\n",
    "#--------- Assigning value to variable Number 2 --------------\n",
    "num2=26\n",
    "\n",
    "#---------  Subtracting Two variables by using Subtraction (-) Operator --------------\n",
    "diff=num1-num2\n",
    "\n",
    "print(\"The Result is:  {} - {} = {}\".format(num1, num2, diff))"
   ]
  },
  {
   "cell_type": "code",
   "execution_count": 4,
   "metadata": {},
   "outputs": [
    {
     "name": "stdout",
     "output_type": "stream",
     "text": [
      "The Result is:  50 - 26 = 24\n"
     ]
    }
   ],
   "source": [
    "## Method 2: Standard operators as function\n",
    "\n",
    "import operator\n",
    "\n",
    "#--------- Assigning value to variable Number 1 --------------\n",
    "num1=50\n",
    "\n",
    "#--------- Assigning value to variable Number 2 --------------\n",
    "num2=26\n",
    "\n",
    "#---------  Subtracting Two variables by using Subtraction (-) Operator --------------\n",
    "sub=operator.sub(num1,num2)\n",
    "\n",
    "print(\"The Result is:  {} - {} = {}\".format(num1, num2, sub))"
   ]
  },
  {
   "cell_type": "markdown",
   "metadata": {},
   "source": [
    "### Multiplication Operator"
   ]
  },
  {
   "cell_type": "code",
   "execution_count": 5,
   "metadata": {},
   "outputs": [
    {
     "name": "stdout",
     "output_type": "stream",
     "text": [
      "The Result is:  11 * 5 = 55\n"
     ]
    }
   ],
   "source": [
    "#--------- Assigning value to variable Number 1 --------------\n",
    "num1=11\n",
    "\n",
    "#--------- Assigning value to variable Number 2 --------------\n",
    "num2=5\n",
    "\n",
    "#---------  Multiplying Two variables by using Multiplication (*) Operator --------------\n",
    "mul=num1*num2\n",
    "\n",
    "print(\"The Result is:  {} * {} = {}\".format(num1, num2, mul))"
   ]
  },
  {
   "cell_type": "code",
   "execution_count": 6,
   "metadata": {},
   "outputs": [
    {
     "name": "stdout",
     "output_type": "stream",
     "text": [
      "The Result is:  11 * 5 = 55\n"
     ]
    }
   ],
   "source": [
    "## Method 2: Standard operators as function\n",
    "\n",
    "import operator\n",
    "\n",
    "#--------- Assigning value to variable Number 1 --------------\n",
    "num1=11\n",
    "\n",
    "#--------- Assigning value to variable Number 2 --------------\n",
    "num2=5\n",
    "\n",
    "#---------  Multiplying Two variables by using Multiplication (*) Operator --------------\n",
    "mul=operator.mul(num1,num2)\n",
    "\n",
    "print(\"The Result is:  {} * {} = {}\".format(num1, num2, mul))"
   ]
  },
  {
   "cell_type": "markdown",
   "metadata": {},
   "source": [
    "### Division Operator"
   ]
  },
  {
   "cell_type": "code",
   "execution_count": 7,
   "metadata": {},
   "outputs": [
    {
     "name": "stdout",
     "output_type": "stream",
     "text": [
      "The Result is:  10 / 3 = 3.3333333333333335\n"
     ]
    }
   ],
   "source": [
    "#--------- Assigning value to variable Number 1 --------------\n",
    "num1=10\n",
    "\n",
    "#--------- Assigning value to variable Number 2 --------------\n",
    "num2=3\n",
    "\n",
    "#---------  Dividing Two variables by using Division (/) Operator --------------\n",
    "div=num1/num2\n",
    "\n",
    "print(\"The Result is:  {} / {} = {}\".format(num1, num2, div))"
   ]
  },
  {
   "cell_type": "code",
   "execution_count": 8,
   "metadata": {},
   "outputs": [
    {
     "name": "stdout",
     "output_type": "stream",
     "text": [
      "The Result is:  10 / 3 = 3.3333333333333335\n"
     ]
    }
   ],
   "source": [
    "## Method 2: Standard operators as function\n",
    "\n",
    "import operator\n",
    "\n",
    "#--------- Assigning value to variable Number 1 --------------\n",
    "num1=10\n",
    "\n",
    "#--------- Assigning value to variable Number 2 --------------\n",
    "num2=3\n",
    "\n",
    "#---------  Dividing Two variables by using Division (/) Operator --------------\n",
    "div=operator.truediv(num1,num2)\n",
    "\n",
    "print(\"The Result is:  {} / {} = {}\".format(num1, num2, div))"
   ]
  },
  {
   "cell_type": "markdown",
   "metadata": {},
   "source": [
    "### Modulus Operator\n",
    "\n",
    "This operator returns the remainder"
   ]
  },
  {
   "cell_type": "code",
   "execution_count": 9,
   "metadata": {},
   "outputs": [
    {
     "name": "stdout",
     "output_type": "stream",
     "text": [
      "The Result is:  11 % 2 = 1\n"
     ]
    }
   ],
   "source": [
    "#--------- Assigning value to variable Number 1 --------------\n",
    "num1=11\n",
    "\n",
    "#--------- Assigning value to variable Number 2 --------------\n",
    "num2=2\n",
    "\n",
    "#---------  Getting remainder of two variables by using Modulus (%) Operator --------------\n",
    "mod=num1%num2\n",
    "\n",
    "print(\"The Result is:  {} % {} = {}\".format(num1, num2, mod))"
   ]
  },
  {
   "cell_type": "code",
   "execution_count": 10,
   "metadata": {},
   "outputs": [
    {
     "name": "stdout",
     "output_type": "stream",
     "text": [
      "The Result is:  11 % 2 = 1\n"
     ]
    }
   ],
   "source": [
    "## Method 2: Standard operators as function\n",
    "\n",
    "import operator\n",
    "\n",
    "#--------- Assigning value to variable Number 1 --------------\n",
    "num1=11\n",
    "\n",
    "#--------- Assigning value to variable Number 2 --------------\n",
    "num2=2\n",
    "\n",
    "#---------  Getting remainder of two variables by using Modulus (%) Operator --------------\n",
    "mod=operator.mod(num1,num2)\n",
    "\n",
    "print(\"The Result is:  {} % {} = {}\".format(num1, num2, mod))"
   ]
  },
  {
   "cell_type": "markdown",
   "metadata": {},
   "source": [
    "### Exponent Operator\n",
    "\n",
    "It returns exponential or power of the number e.g. 10 ** 2 = 100, 2 ** 3 = 8"
   ]
  },
  {
   "cell_type": "code",
   "execution_count": 11,
   "metadata": {},
   "outputs": [
    {
     "name": "stdout",
     "output_type": "stream",
     "text": [
      "The Result is:  2 ** 3 = 8\n"
     ]
    }
   ],
   "source": [
    "#--------- Assigning value to variable Number 1 --------------\n",
    "num1=2\n",
    "\n",
    "#--------- Assigning value to variable Number 2 --------------\n",
    "num2=3\n",
    "\n",
    "#---------  Performing Exponentiation on Two variables by using Exponent (**) Operator --------------\n",
    "exp=num1**num2\n",
    "\n",
    "print(\"The Result is:  {} ** {} = {}\".format(num1, num2, exp))"
   ]
  },
  {
   "cell_type": "code",
   "execution_count": 12,
   "metadata": {},
   "outputs": [
    {
     "name": "stdout",
     "output_type": "stream",
     "text": [
      "The Result is:  2 ** 3 = 8\n"
     ]
    }
   ],
   "source": [
    "## Method 2: Standard operators as function\n",
    "\n",
    "import operator\n",
    "\n",
    "#--------- Assigning value to variable Number 1 --------------\n",
    "num1=2\n",
    "\n",
    "#--------- Assigning value to variable Number 2 --------------\n",
    "num2=3\n",
    "\n",
    "#---------  Performing Exponentiation on Two variables by using Exponent (**) Operator --------------\n",
    "exp=operator.pow(num1,num2)\n",
    "\n",
    "print(\"The Result is:  {} ** {} = {}\".format(num1, num2, exp))"
   ]
  },
  {
   "cell_type": "markdown",
   "metadata": {},
   "source": [
    "### Floor Division Operator"
   ]
  },
  {
   "cell_type": "code",
   "execution_count": 14,
   "metadata": {},
   "outputs": [
    {
     "name": "stdout",
     "output_type": "stream",
     "text": [
      "The Result is:  11 // 2 = 5\n"
     ]
    }
   ],
   "source": [
    "#--------- Assigning value to variable Number 1 --------------\n",
    "num1=11\n",
    "\n",
    "#--------- Assigning value to variable Number 2 --------------\n",
    "num2=2\n",
    "\n",
    "#---------  Diving Two variables by using Floor Division (//) Operator --------------\n",
    "floor_div=num1//num2\n",
    "\n",
    "print(\"The Result is:  {} // {} = {}\".format(num1, num2, floor_div))"
   ]
  },
  {
   "cell_type": "code",
   "execution_count": 15,
   "metadata": {},
   "outputs": [
    {
     "name": "stdout",
     "output_type": "stream",
     "text": [
      "The Result is:  11 // 2 = 5\n"
     ]
    }
   ],
   "source": [
    "## Method 2: Standard operators as function\n",
    "\n",
    "import operator\n",
    "\n",
    "#--------- Assigning value to variable Number 1 --------------\n",
    "num1=11\n",
    "\n",
    "#--------- Assigning value to variable Number 2 --------------\n",
    "num2=2\n",
    "\n",
    "#---------  Diving Two variables by using Floor Division (//) Operator --------------\n",
    "floor_div=operator.floordiv(num1,num2)\n",
    "\n",
    "print(\"The Result is:  {} // {} = {}\".format(num1, num2, floor_div))"
   ]
  },
  {
   "cell_type": "markdown",
   "metadata": {},
   "source": [
    "#### In case of negative number, it gives number which is away from zero on number line."
   ]
  },
  {
   "cell_type": "code",
   "execution_count": 16,
   "metadata": {},
   "outputs": [
    {
     "name": "stdout",
     "output_type": "stream",
     "text": [
      "The Result is:  -11 // 2 = -6\n"
     ]
    }
   ],
   "source": [
    "#--------- Assigning value to variable Number 1 --------------\n",
    "num1=-11\n",
    "\n",
    "#--------- Assigning value to variable Number 2 --------------\n",
    "num2=2\n",
    "\n",
    "#---------  Diving Two variables by using Floor Division (//) Operator --------------\n",
    "floor_div=num1//num2\n",
    "\n",
    "print(\"The Result is:  {} // {} = {}\".format(num1, num2, floor_div))"
   ]
  },
  {
   "cell_type": "code",
   "execution_count": 17,
   "metadata": {},
   "outputs": [
    {
     "name": "stdout",
     "output_type": "stream",
     "text": [
      "The Result is:  -11 // 2 = -6\n"
     ]
    }
   ],
   "source": [
    "## Method 2: Standard operators as function\n",
    "\n",
    "import operator\n",
    "\n",
    "#--------- Assigning value to variable Number 1 --------------\n",
    "num1=-11\n",
    "\n",
    "#---------  Assigning value to variable Number 2 --------------\n",
    "num2=2\n",
    "\n",
    "#---------  Diving Two variables by using Floor Division (//) Operator --------------\n",
    "floor_div=operator.floordiv(num1,num2)\n",
    "\n",
    "print(\"The Result is:  {} // {} = {}\".format(num1, num2, floor_div))"
   ]
  },
  {
   "cell_type": "code",
   "execution_count": null,
   "metadata": {},
   "outputs": [],
   "source": []
  }
 ],
 "metadata": {
  "kernelspec": {
   "display_name": "Python 3",
   "language": "python",
   "name": "python3"
  },
  "language_info": {
   "codemirror_mode": {
    "name": "ipython",
    "version": 3
   },
   "file_extension": ".py",
   "mimetype": "text/x-python",
   "name": "python",
   "nbconvert_exporter": "python",
   "pygments_lexer": "ipython3",
   "version": "3.7.7"
  }
 },
 "nbformat": 4,
 "nbformat_minor": 4
}
