{
 "cells": [
  {
   "cell_type": "markdown",
   "metadata": {},
   "source": [
    "## Python Relational Operators"
   ]
  },
  {
   "cell_type": "markdown",
   "metadata": {},
   "source": [
    "### Equality (==) Operator"
   ]
  },
  {
   "cell_type": "code",
   "execution_count": 1,
   "metadata": {},
   "outputs": [],
   "source": [
    "## Method 1:\n",
    "#--------- Assigning value to variable Number 1 --------------\n",
    "num1=15\n",
    "\n",
    "#---------  Assigning value to variable Number 2 --------------\n",
    "num2=15\n",
    "\n",
    "#---------  Comparing 2 numbers with (==) Operator --------------\n",
    "if num1 == num2: \n",
    "    print(\"Both numbers are equal\")\n",
    "else:\n",
    "    print(\"Both numbers are Not equal\")"
   ]
  },
  {
   "cell_type": "code",
   "execution_count": 2,
   "metadata": {},
   "outputs": [],
   "source": [
    "## Method 2: Standard operators as function\n",
    "\n",
    "import operator\n",
    "\n",
    "#--------- Assigning value to variable Number 1 --------------\n",
    "num1=15\n",
    "\n",
    "#---------  Assigning value to variable Number 2 --------------\n",
    "num2=15\n",
    "\n",
    "#---------  Comparing 2 numbers with (==) Operator --------------\n",
    "if operator.eq(num1, num2): \n",
    "    print(\"Both numbers are equal\")\n",
    "else:\n",
    "    print(\"Both numbers are Not equal\")"
   ]
  },
  {
   "cell_type": "markdown",
   "metadata": {},
   "source": [
    "### Difference (!=) Operator"
   ]
  },
  {
   "cell_type": "code",
   "execution_count": 3,
   "metadata": {},
   "outputs": [],
   "source": [
    "## Method 1:\n",
    "#--------- Assigning value to variable Number 1 --------------\n",
    "num1=15\n",
    "\n",
    "#---------  Assigning value to variable Number 2 --------------\n",
    "num2=16\n",
    "\n",
    "#---------  Comparing 2 numbers with (!=) Operator --------------\n",
    "if num1 != num2: \n",
    "    print(\"Both numbers are Not equal\")\n",
    "else:\n",
    "    print(\"Both numbers are equal\")"
   ]
  },
  {
   "cell_type": "code",
   "execution_count": 4,
   "metadata": {},
   "outputs": [],
   "source": [
    "## Method 2: Standard operators as function\n",
    "\n",
    "import operator\n",
    "\n",
    "#--------- Assigning value to variable Number 1 --------------\n",
    "num1=15\n",
    "\n",
    "#---------  Assigning value to variable Number 2 --------------\n",
    "num2=16\n",
    "\n",
    "#---------  Comparing 2 numbers with (!=) Operator --------------\n",
    "if operator.ne(num1, num2): \n",
    "    print(\"Both numbers are Not equal\")\n",
    "else:\n",
    "    print(\"Both numbers are equal\")"
   ]
  },
  {
   "cell_type": "markdown",
   "metadata": {},
   "source": [
    "### Greater than (>) Operator"
   ]
  },
  {
   "cell_type": "code",
   "execution_count": 5,
   "metadata": {},
   "outputs": [],
   "source": [
    "## Method 1:\n",
    "#--------- Assigning value to variable Number 1 --------------\n",
    "num1=20\n",
    "\n",
    "#---------  Assigning value to variable Number 2 --------------\n",
    "num2=16\n",
    "\n",
    "#---------  Comparing 2 numbers with (>) Operator --------------\n",
    "if num1 > num2: \n",
    "    print(\"Number1 is greater than Number2\")\n",
    "else:\n",
    "    print(\"Number1 is Not greater than Number2\")"
   ]
  },
  {
   "cell_type": "code",
   "execution_count": 6,
   "metadata": {},
   "outputs": [],
   "source": [
    "## Method 2: Standard operators as function\n",
    "\n",
    "import operator\n",
    "\n",
    "#--------- Assigning value to variable Number 1 --------------\n",
    "num1=20\n",
    "\n",
    "#---------  Assigning value to variable Number 2 --------------\n",
    "num2=16\n",
    "\n",
    "#---------  Comparing 2 numbers with (>) Operator --------------\n",
    "if operator.gt(num1, num2): \n",
    "    print(\"Number1 is greater than Number2\")\n",
    "else:\n",
    "    print(\"Number1 is Not greater than Number2\")"
   ]
  },
  {
   "cell_type": "markdown",
   "metadata": {},
   "source": [
    "### Greater than equal to (>=) Operator"
   ]
  },
  {
   "cell_type": "code",
   "execution_count": 7,
   "metadata": {},
   "outputs": [],
   "source": [
    "## Method 1:\n",
    "#--------- Assigning value to variable Number 1 --------------\n",
    "num1=20\n",
    "\n",
    "#---------  Assigning value to variable Number 2 --------------\n",
    "num2=16\n",
    "\n",
    "#---------  Comparing 2 numbers with (>=) Operator --------------\n",
    "if num1 >= num2: \n",
    "    print(\"Number1 is Greater than equal to (>=) Number2\")\n",
    "else:\n",
    "    print(\"Number1 is Not Greater than equal to (>=) Number2\")"
   ]
  },
  {
   "cell_type": "code",
   "execution_count": 8,
   "metadata": {},
   "outputs": [],
   "source": [
    "## Method 2: Standard operators as function\n",
    "\n",
    "import operator\n",
    "\n",
    "#--------- Assigning value to variable Number 1 --------------\n",
    "num1=20\n",
    "\n",
    "#---------  Assigning value to variable Number 2 --------------\n",
    "num2=16\n",
    "\n",
    "#---------  Comparing 2 numbers with (>=) Operator --------------\n",
    "if operator.ge(num1, num2): \n",
    "    print(\"Number1 is Greater than equal to (>=) Number2\")\n",
    "else:\n",
    "    print(\"Number1 is Not Greater than equal to (>=) Number2\")"
   ]
  },
  {
   "cell_type": "markdown",
   "metadata": {},
   "source": [
    "### Less than (<) Operator"
   ]
  },
  {
   "cell_type": "code",
   "execution_count": 9,
   "metadata": {},
   "outputs": [],
   "source": [
    "## Method 1:\n",
    "#--------- Assigning value to variable Number 1 --------------\n",
    "num1=15\n",
    "\n",
    "#---------  Assigning value to variable Number 2 --------------\n",
    "num2=16\n",
    "\n",
    "#---------  Comparing 2 numbers with (<) Operator --------------\n",
    "if num1 < num2: \n",
    "    print(\"Number1 is less than (<) Number2\")\n",
    "else:\n",
    "    print(\"Number1 is Not less than (<) Number2\")"
   ]
  },
  {
   "cell_type": "code",
   "execution_count": 10,
   "metadata": {},
   "outputs": [],
   "source": [
    "## Method 2: Standard operators as function\n",
    "\n",
    "import operator\n",
    "\n",
    "#--------- Assigning value to variable Number 1 --------------\n",
    "num1=15\n",
    "\n",
    "#---------  Assigning value to variable Number 2 --------------\n",
    "num2=16\n",
    "\n",
    "#---------  Comparing 2 numbers with (<) Operator --------------\n",
    "if operator.lt(num1, num2): \n",
    "    print(\"Number1 is less than (<) Number2\")\n",
    "else:\n",
    "    print(\"Number1 is Not less than (<) Number2\")"
   ]
  },
  {
   "cell_type": "markdown",
   "metadata": {},
   "source": [
    "### Less than equal to (<=) Operator"
   ]
  },
  {
   "cell_type": "code",
   "execution_count": 11,
   "metadata": {},
   "outputs": [],
   "source": [
    "## Method 1:\n",
    "#--------- Assigning value to variable Number 1 --------------\n",
    "num1=20\n",
    "\n",
    "#---------  Assigning value to variable Number 2 --------------\n",
    "num2=15\n",
    "\n",
    "#---------  Comparing 2 numbers with (<=) Operator --------------\n",
    "if num1 <= num2: \n",
    "    print(\"Number1 is less than equal to  (<=) Number2\")\n",
    "else:\n",
    "    print(\"Number1 is Not less than equal to (<=) Number2\")"
   ]
  },
  {
   "cell_type": "code",
   "execution_count": 12,
   "metadata": {},
   "outputs": [],
   "source": [
    "## Method 2: Standard operators as function\n",
    "\n",
    "import operator\n",
    "\n",
    "#--------- Assigning value to variable Number 1 --------------\n",
    "num1=15\n",
    "\n",
    "#---------  Assigning value to variable Number 2 --------------\n",
    "num2=16\n",
    "\n",
    "#---------  Comparing 2 numbers with (<=) Operator --------------\n",
    "if operator.le(num1, num2): \n",
    "    print(\"Number1 is less than equal to  (<=) Number2\")\n",
    "else:\n",
    "    print(\"Number1 is Not less than equal to  (<=) Number2\")"
   ]
  },
  {
   "cell_type": "code",
   "execution_count": null,
   "metadata": {},
   "outputs": [],
   "source": []
  }
 ],
 "metadata": {
  "kernelspec": {
   "display_name": "Python 3",
   "language": "python",
   "name": "python3"
  },
  "language_info": {
   "codemirror_mode": {
    "name": "ipython",
    "version": 3
   },
   "file_extension": ".py",
   "mimetype": "text/x-python",
   "name": "python",
   "nbconvert_exporter": "python",
   "pygments_lexer": "ipython3",
   "version": "3.7.7"
  }
 },
 "nbformat": 4,
 "nbformat_minor": 4
}
