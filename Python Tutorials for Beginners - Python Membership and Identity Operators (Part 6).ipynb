{
 "cells": [
  {
   "cell_type": "markdown",
   "metadata": {},
   "source": [
    "## Python Membership and Identity Operators"
   ]
  },
  {
   "cell_type": "markdown",
   "metadata": {},
   "source": [
    "## 1. Membership Operators\n",
    "\n",
    "### 1. \"in\" operator\n",
    "\n"
   ]
  },
  {
   "cell_type": "code",
   "execution_count": 1,
   "metadata": {},
   "outputs": [
    {
     "name": "stdout",
     "output_type": "stream",
     "text": [
      "2 is part of even list [0, 2, 4, 6, 8]\n",
      "2 is part of even list [0, 2, 4, 6, 8]\n"
     ]
    }
   ],
   "source": [
    "#--------- Assigning value to variable num--------------\n",
    "num=2 \n",
    "\n",
    "# Define even number of list\n",
    "even_lst=[0,2,4,6,8]\n",
    "\n",
    "## Method 1:\n",
    "if num in even_lst: \n",
    "    print(\"{} is part of even list {}\".format(num, even_lst))\n",
    "else:\n",
    "    print(\"The number {} does not belong to list {}\".format(num,even_lst))\n",
    "\n",
    "    \n",
    "## Method 2: using operator module\n",
    "import operator\n",
    "if  operator.contains(even_lst, num): \n",
    "    print(\"{} is part of even list {}\".format(num, even_lst))\n",
    "else:\n",
    "    print(\"The number {} does not belong to list {}\".format(num,even_lst))"
   ]
  },
  {
   "cell_type": "markdown",
   "metadata": {},
   "source": [
    "### 2. \"not in\" operator"
   ]
  },
  {
   "cell_type": "code",
   "execution_count": 2,
   "metadata": {},
   "outputs": [
    {
     "name": "stdout",
     "output_type": "stream",
     "text": [
      "3 is not a part of even list [0, 2, 4, 6, 8]\n"
     ]
    }
   ],
   "source": [
    "#--------- Assigning value to variable num--------------\n",
    "num=3 \n",
    "\n",
    "# Define even number of list\n",
    "even_lst=[0,2,4,6,8]\n",
    "\n",
    "\n",
    "if num not in even_lst: \n",
    "    print(\"{} is not a part of even list {}\".format(num, even_lst))\n",
    "else:\n",
    "    print(\"The number {} belongs to list {}\".format(num,even_lst))"
   ]
  },
  {
   "cell_type": "markdown",
   "metadata": {},
   "source": [
    "## 2. Identity Operators\n",
    "\n",
    "Identity operators compare the memory locations of two objects\n",
    "\n",
    "### 1. \"is\" operator\n",
    "\n"
   ]
  },
  {
   "cell_type": "code",
   "execution_count": 3,
   "metadata": {},
   "outputs": [
    {
     "name": "stdout",
     "output_type": "stream",
     "text": [
      "Both numbers are same\n",
      "Both numbers are same\n"
     ]
    }
   ],
   "source": [
    "num1=50\n",
    "num2=50\n",
    "\n",
    "## Method 1:\n",
    "if num1 is num2: \n",
    "    print(\"Both numbers are same\")\n",
    "else:\n",
    "    print(\"Both are different numbers\")\n",
    "    \n",
    "## Method 2: using operator module\n",
    "import operator\n",
    "if  operator.is_(num1, num2): \n",
    "    print(\"Both numbers are same\")\n",
    "else:\n",
    "    print(\"Both are different numbers\")    "
   ]
  },
  {
   "cell_type": "markdown",
   "metadata": {},
   "source": [
    "### 2. \"is not\" operator"
   ]
  },
  {
   "cell_type": "code",
   "execution_count": 4,
   "metadata": {},
   "outputs": [
    {
     "name": "stdout",
     "output_type": "stream",
     "text": [
      "Both are different numbers\n",
      "Both are different numbers\n"
     ]
    }
   ],
   "source": [
    "num1=50\n",
    "num2=100\n",
    "\n",
    "\n",
    "## Method 1:\n",
    "if num1 is not num2: \n",
    "    print(\"Both are different numbers\")\n",
    "else:\n",
    "    print(\"Both are same numbers\")\n",
    " \n",
    "\n",
    " ## Method 2: using operator module\n",
    "import operator\n",
    "if  operator.is_not(num1, num2): \n",
    "    print(\"Both are different numbers\")\n",
    "else:\n",
    "    print(\"Both are same numbers\")      "
   ]
  },
  {
   "cell_type": "code",
   "execution_count": null,
   "metadata": {},
   "outputs": [],
   "source": []
  }
 ],
 "metadata": {
  "kernelspec": {
   "display_name": "Python 3",
   "language": "python",
   "name": "python3"
  },
  "language_info": {
   "codemirror_mode": {
    "name": "ipython",
    "version": 3
   },
   "file_extension": ".py",
   "mimetype": "text/x-python",
   "name": "python",
   "nbconvert_exporter": "python",
   "pygments_lexer": "ipython3",
   "version": "3.7.7"
  }
 },
 "nbformat": 4,
 "nbformat_minor": 4
}
