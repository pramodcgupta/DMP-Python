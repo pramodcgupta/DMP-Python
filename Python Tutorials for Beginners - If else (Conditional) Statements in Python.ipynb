{
 "cells": [
  {
   "cell_type": "markdown",
   "metadata": {},
   "source": [
    "## If Else - Conditional Statements\n",
    "\n",
    "This is used to divide the program logic into different branches based on Conditions/decisions "
   ]
  },
  {
   "cell_type": "markdown",
   "metadata": {},
   "source": [
    "### if Statement\n"
   ]
  },
  {
   "cell_type": "code",
   "execution_count": 1,
   "metadata": {},
   "outputs": [
    {
     "name": "stdout",
     "output_type": "stream",
     "text": [
      "Congratulations!! You are Passed\n"
     ]
    }
   ],
   "source": [
    "your_test_score=60\n",
    "  \n",
    "if your_test_score >= 40:   ## Condition\n",
    "    print(\"Congratulations!! You are Passed\")  ## Body of 'if' block"
   ]
  },
  {
   "cell_type": "code",
   "execution_count": 2,
   "metadata": {},
   "outputs": [
    {
     "name": "stdout",
     "output_type": "stream",
     "text": [
      "We are In If Statement 1\n",
      "We are In If Statement 2\n"
     ]
    }
   ],
   "source": [
    "# 1st If Statement\n",
    "if True: \n",
    "    print(\"We are In If Statement 1\")\n",
    "\n",
    "# 2nd If Statement    \n",
    "if 10: \n",
    "    print(\"We are In If Statement 2\")"
   ]
  },
  {
   "cell_type": "code",
   "execution_count": 3,
   "metadata": {},
   "outputs": [],
   "source": [
    "if False: \n",
    "    print(\"We are In If Statement 1\")\n",
    "\n",
    "if 0: \n",
    "    print(\"We are In If Statement 1\")    "
   ]
  },
  {
   "cell_type": "markdown",
   "metadata": {},
   "source": [
    "## if else statement"
   ]
  },
  {
   "cell_type": "code",
   "execution_count": 4,
   "metadata": {},
   "outputs": [
    {
     "name": "stdout",
     "output_type": "stream",
     "text": [
      "Sorry!! You are Failed\n"
     ]
    }
   ],
   "source": [
    "your_test_score=35\n",
    "\n",
    "if your_test_score >= 40:   ## Condition\n",
    "    print(\"Congratulations!! You are Passed\")  ## if Body Statements\n",
    "else:\n",
    "    print(\"Sorry!! You are Failed\")  ## else Body Statements\n",
    "    "
   ]
  },
  {
   "cell_type": "markdown",
   "metadata": {},
   "source": [
    "## if-elif-else statement"
   ]
  },
  {
   "cell_type": "code",
   "execution_count": 5,
   "metadata": {},
   "outputs": [
    {
     "name": "stdout",
     "output_type": "stream",
     "text": [
      "Enter Billed Revenue ($) for Customer: 2500\n",
      "Customer category: Tier 1\n"
     ]
    }
   ],
   "source": [
    "Billed_Revenue=int(input('Enter Billed Revenue ($) for Customer: '))\n",
    "\n",
    "if Billed_Revenue>=0 and  Billed_Revenue < 500: \n",
    "    cust_category='Tier 3'\n",
    "elif Billed_Revenue>=500 and  Billed_Revenue < 1000: \n",
    "    cust_category='Tier 2'\n",
    "elif Billed_Revenue>=1000 and  Billed_Revenue < 5000: \n",
    "    cust_category='Tier 1'\n",
    "elif Billed_Revenue>5000: \n",
    "    cust_category='VIP'  \n",
    "else: \n",
    "    print('Please input valid revenue')\n",
    "    \n",
    "print('Customer category: {}'.format(cust_category))    "
   ]
  },
  {
   "cell_type": "markdown",
   "metadata": {},
   "source": [
    "## Nested if else statements"
   ]
  },
  {
   "cell_type": "code",
   "execution_count": 8,
   "metadata": {},
   "outputs": [
    {
     "name": "stdout",
     "output_type": "stream",
     "text": [
      "Enter Billed Revenue ($) for Customer: 2400\n",
      "Sorry! No discount for you\n"
     ]
    }
   ],
   "source": [
    "## Checking for Discounts \n",
    "\n",
    "Billed_Revenue=int(input('Enter Billed Revenue ($) for Customer: '))\n",
    "\n",
    "\n",
    "if Billed_Revenue > 5000:\n",
    "    IsRegularCustomer=input('Are you Regulat Customer? (Yes/No): ')\n",
    "    if IsRegularCustomer == 'Yes': \n",
    "        print(\"Congratulations, you have 20% discount\")\n",
    "    else:\n",
    "        print(\"Congratulations, you have 10% discount\")\n",
    "else:\n",
    "    print(\"Sorry! No discount for you\")"
   ]
  },
  {
   "cell_type": "code",
   "execution_count": null,
   "metadata": {},
   "outputs": [],
   "source": []
  }
 ],
 "metadata": {
  "kernelspec": {
   "display_name": "Python 3",
   "language": "python",
   "name": "python3"
  },
  "language_info": {
   "codemirror_mode": {
    "name": "ipython",
    "version": 3
   },
   "file_extension": ".py",
   "mimetype": "text/x-python",
   "name": "python",
   "nbconvert_exporter": "python",
   "pygments_lexer": "ipython3",
   "version": "3.7.7"
  }
 },
 "nbformat": 4,
 "nbformat_minor": 4
}
