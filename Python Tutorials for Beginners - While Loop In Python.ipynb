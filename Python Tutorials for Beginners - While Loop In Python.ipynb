{
 "cells": [
  {
   "cell_type": "markdown",
   "metadata": {},
   "source": [
    "## While Loop In Python"
   ]
  },
  {
   "cell_type": "raw",
   "metadata": {},
   "source": [
    "Syntax: \n",
    "\n",
    "while <<Condition>>: \n",
    "    <<statement(s)>>"
   ]
  },
  {
   "cell_type": "code",
   "execution_count": 1,
   "metadata": {},
   "outputs": [
    {
     "name": "stdout",
     "output_type": "stream",
     "text": [
      "Number:  0\n",
      "Number:  1\n",
      "Number:  2\n",
      "Number:  3\n",
      "Number:  4\n",
      "Number:  5\n",
      "Number:  6\n",
      "Number:  7\n",
      "Number:  8\n",
      "Number:  9\n"
     ]
    }
   ],
   "source": [
    "## Initiliaze the counter variable\n",
    "counter = 0\n",
    "\n",
    "# While loop\n",
    "while counter < 10: \n",
    "    print(\"Number: \", counter)\n",
    "    counter += 1                       #### Increment the counter"
   ]
  },
  {
   "cell_type": "markdown",
   "metadata": {},
   "source": [
    "### While loop with else statement"
   ]
  },
  {
   "cell_type": "code",
   "execution_count": 2,
   "metadata": {},
   "outputs": [
    {
     "name": "stdout",
     "output_type": "stream",
     "text": [
      "Enter the word which you want to print: abc\n",
      "You have entered:  abc\n",
      "Enter the word which you want to print: def\n",
      "You have entered:  def\n",
      "Enter the word which you want to print: q\n",
      "You have entered:  q\n",
      ">>>>>>>>>>>>>>>> You are exiting the loop >>>>>>>>>>>>>>>>>>>>>>>>\n"
     ]
    }
   ],
   "source": [
    "input_str = \"\"\n",
    "\n",
    "while input_str not in ('quit','q'): \n",
    "    input_str=input(\"Enter the word which you want to print: \")\n",
    "    print(\"You have entered: \", input_str)\n",
    "else:\n",
    "    print(\">>>>>>>>>>>>>>>> You are exiting the loop >>>>>>>>>>>>>>>>>>>>>>>>\")"
   ]
  },
  {
   "cell_type": "code",
   "execution_count": null,
   "metadata": {},
   "outputs": [],
   "source": []
  }
 ],
 "metadata": {
  "kernelspec": {
   "display_name": "Python 3",
   "language": "python",
   "name": "python3"
  },
  "language_info": {
   "codemirror_mode": {
    "name": "ipython",
    "version": 3
   },
   "file_extension": ".py",
   "mimetype": "text/x-python",
   "name": "python",
   "nbconvert_exporter": "python",
   "pygments_lexer": "ipython3",
   "version": "3.7.7"
  }
 },
 "nbformat": 4,
 "nbformat_minor": 4
}
