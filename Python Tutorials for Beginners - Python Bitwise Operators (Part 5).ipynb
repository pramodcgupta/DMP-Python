{
 "cells": [
  {
   "cell_type": "markdown",
   "metadata": {},
   "source": [
    "## Python Bitwise Operators"
   ]
  },
  {
   "cell_type": "markdown",
   "metadata": {},
   "source": [
    "### Binary AND \"&\" Operator"
   ]
  },
  {
   "cell_type": "code",
   "execution_count": 1,
   "metadata": {},
   "outputs": [
    {
     "name": "stdout",
     "output_type": "stream",
     "text": [
      "Output:  8\n"
     ]
    }
   ],
   "source": [
    "#--------- Assigning value to variable Number 1 --------------\n",
    "num1=10    # 0000 1010 \n",
    "\n",
    "#---------  Assigning value to variable Number 2 --------------\n",
    "num2=12    # 0000 1100\n",
    "\n",
    "out=num1&num2  #0000 1000 = 8\n",
    "\n",
    "print(\"Output: \", out)"
   ]
  },
  {
   "cell_type": "markdown",
   "metadata": {},
   "source": [
    "### Binary OR | Operator"
   ]
  },
  {
   "cell_type": "code",
   "execution_count": 2,
   "metadata": {},
   "outputs": [
    {
     "name": "stdout",
     "output_type": "stream",
     "text": [
      "Output:  14\n"
     ]
    }
   ],
   "source": [
    "#--------- Assigning value to variable Number 1 --------------\n",
    "num1=10    # 0000 1010 \n",
    "\n",
    "#---------  Assigning value to variable Number 2 --------------\n",
    "num2=12    # 0000 1100\n",
    "\n",
    "out=num1|num2  #0000 1110 = 14\n",
    "\n",
    "print(\"Output: \", out)"
   ]
  },
  {
   "cell_type": "markdown",
   "metadata": {},
   "source": [
    "### Binary XOR ^ Operator"
   ]
  },
  {
   "cell_type": "code",
   "execution_count": 3,
   "metadata": {},
   "outputs": [
    {
     "name": "stdout",
     "output_type": "stream",
     "text": [
      "Output:  6\n"
     ]
    }
   ],
   "source": [
    "#--------- Assigning value to variable Number 1 --------------\n",
    "num1=10    # 0000 1010 \n",
    "\n",
    "#---------  Assigning value to variable Number 2 --------------\n",
    "num2=12    # 0000 1100\n",
    "\n",
    "out=num1^num2  #0000 0110 = 6\n",
    "\n",
    "print(\"Output: \", out)"
   ]
  },
  {
   "cell_type": "markdown",
   "metadata": {},
   "source": [
    "### Binary Complement ~Operator"
   ]
  },
  {
   "cell_type": "code",
   "execution_count": 4,
   "metadata": {},
   "outputs": [
    {
     "name": "stdout",
     "output_type": "stream",
     "text": [
      "Output:  -61\n"
     ]
    }
   ],
   "source": [
    "#--------- Assigning value to variable Number 1 --------------\n",
    "num1=60    # 0011 1100\n",
    "\n",
    "\n",
    "out=~num1  # 1100 0011 = -61 in 2's complement form due to a signed binary number.\n",
    "\n",
    "print(\"Output: \", out)  "
   ]
  },
  {
   "cell_type": "markdown",
   "metadata": {},
   "source": [
    "### Binary Left Shift  << Operator"
   ]
  },
  {
   "cell_type": "code",
   "execution_count": 5,
   "metadata": {},
   "outputs": [
    {
     "name": "stdout",
     "output_type": "stream",
     "text": [
      "Output:  40\n"
     ]
    }
   ],
   "source": [
    "#--------- Assigning value to variable Number 1 --------------\n",
    "num1=10    # 0000 1010 \n",
    "\n",
    "\n",
    "out=num1<<2  # 0010 1000 = 40 \n",
    "\n",
    "print(\"Output: \", out)  "
   ]
  },
  {
   "cell_type": "markdown",
   "metadata": {},
   "source": [
    "### Binary Right Shift  >> Operator"
   ]
  },
  {
   "cell_type": "code",
   "execution_count": 6,
   "metadata": {},
   "outputs": [
    {
     "name": "stdout",
     "output_type": "stream",
     "text": [
      "Output:  2\n"
     ]
    }
   ],
   "source": [
    "#--------- Assigning value to variable Number 1 --------------\n",
    "num1=10    # 0000 1010 \n",
    "\n",
    "\n",
    "out=num1>>2  # 0000 0010 = 2 \n",
    "\n",
    "print(\"Output: \", out)  "
   ]
  },
  {
   "cell_type": "code",
   "execution_count": null,
   "metadata": {},
   "outputs": [],
   "source": []
  }
 ],
 "metadata": {
  "kernelspec": {
   "display_name": "Python 3",
   "language": "python",
   "name": "python3"
  },
  "language_info": {
   "codemirror_mode": {
    "name": "ipython",
    "version": 3
   },
   "file_extension": ".py",
   "mimetype": "text/x-python",
   "name": "python",
   "nbconvert_exporter": "python",
   "pygments_lexer": "ipython3",
   "version": "3.7.7"
  }
 },
 "nbformat": 4,
 "nbformat_minor": 4
}
