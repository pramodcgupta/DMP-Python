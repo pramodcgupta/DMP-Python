{
 "cells": [
  {
   "cell_type": "markdown",
   "metadata": {},
   "source": [
    "## For Loop In Python\n",
    "\n",
    "Loop are being used in those scenarios where some block of codes need to be executed for certain number of times."
   ]
  },
  {
   "cell_type": "code",
   "execution_count": 1,
   "metadata": {},
   "outputs": [
    {
     "name": "stdout",
     "output_type": "stream",
     "text": [
      "Lets see For Loop Demo...\n",
      "Current Day:  Mon\n",
      "Current Day:  Tue\n",
      "Current Day:  Wed\n",
      "Current Day:  Thu\n",
      "Current Day:  Fri\n",
      "Current Day:  Sat\n",
      "Current Day:  Sun\n",
      "Loop End ...\n"
     ]
    }
   ],
   "source": [
    "print(\"Lets see For Loop Demo...\")\n",
    "\n",
    "week = ['Mon','Tue','Wed','Thu','Fri','Sat','Sun']\n",
    "\n",
    "\n",
    "for day in week: \n",
    "    print('Current Day: ', day)\n",
    "    \n",
    "\n",
    "print(\"Loop End ...\")    "
   ]
  },
  {
   "cell_type": "code",
   "execution_count": 2,
   "metadata": {},
   "outputs": [
    {
     "name": "stdout",
     "output_type": "stream",
     "text": [
      "Lets see For Loop Demo...\n",
      "Current Day:  Mon\n",
      "Current Day:  Tue\n",
      "Current Day:  Wed\n",
      "Current Day:  Thu\n",
      "Current Day:  Fri\n",
      "Current Day:  Sat\n",
      "Current Day:  Sun\n",
      "Loop End ...\n"
     ]
    }
   ],
   "source": [
    "print(\"Lets see For Loop Demo...\")\n",
    "\n",
    "week = ['Mon','Tue','Wed','Thu','Fri','Sat','Sun']\n",
    "\n",
    "\n",
    "for day in range(len(week)): \n",
    "    print('Current Day: ', week[day])\n",
    "    \n",
    "\n",
    "print(\"Loop End ...\")    "
   ]
  },
  {
   "cell_type": "markdown",
   "metadata": {},
   "source": [
    "### For Loop with else \n",
    "\n",
    "The else statement is executed only when the loop has finished with iterating the list. If break statement is used, then else part won't executed"
   ]
  },
  {
   "cell_type": "code",
   "execution_count": 3,
   "metadata": {},
   "outputs": [
    {
     "name": "stdout",
     "output_type": "stream",
     "text": [
      "Lets see For Loop Demo...\n",
      "Current Day:  Mon\n",
      "Current Day:  Tue\n",
      "Current Day:  Wed\n",
      "Current Day:  Thu\n",
      "Current Day:  Fri\n",
      "Current Day:  Sat\n",
      "Current Day:  Sun\n",
      "----- All day are printed ------\n",
      "Loop End ...\n"
     ]
    }
   ],
   "source": [
    "print(\"Lets see For Loop Demo...\")\n",
    "\n",
    "week = ['Mon','Tue','Wed','Thu','Fri','Sat','Sun']\n",
    "\n",
    "\n",
    "for day in week: \n",
    "    print('Current Day: ', day)\n",
    "else:\n",
    "    print(\"----- All day are printed ------\")\n",
    "    \n",
    "\n",
    "print(\"Loop End ...\")  "
   ]
  },
  {
   "cell_type": "code",
   "execution_count": 4,
   "metadata": {},
   "outputs": [
    {
     "name": "stdout",
     "output_type": "stream",
     "text": [
      "Current Number:  1\n",
      "Current Number:  2\n",
      "Current Number:  3\n",
      "Current Number:  4\n"
     ]
    }
   ],
   "source": [
    "# If break statement is used, then else part won't executed\n",
    "\n",
    "num=list(range(1,11))\n",
    "\n",
    "for i in num: \n",
    "    if i==5: \n",
    "        break\n",
    "    print(\"Current Number: \", i)\n",
    "else:\n",
    "    print(\"This is else part\")"
   ]
  },
  {
   "cell_type": "code",
   "execution_count": null,
   "metadata": {},
   "outputs": [],
   "source": []
  }
 ],
 "metadata": {
  "kernelspec": {
   "display_name": "Python 3",
   "language": "python",
   "name": "python3"
  },
  "language_info": {
   "codemirror_mode": {
    "name": "ipython",
    "version": 3
   },
   "file_extension": ".py",
   "mimetype": "text/x-python",
   "name": "python",
   "nbconvert_exporter": "python",
   "pygments_lexer": "ipython3",
   "version": "3.7.7"
  }
 },
 "nbformat": 4,
 "nbformat_minor": 4
}
