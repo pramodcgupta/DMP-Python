{
 "cells": [
  {
   "cell_type": "markdown",
   "metadata": {},
   "source": [
    "## Break Statement\n",
    "\n",
    "It terminates the current loop and resumes execution of next statement in the code"
   ]
  },
  {
   "cell_type": "code",
   "execution_count": 1,
   "metadata": {},
   "outputs": [
    {
     "name": "stdout",
     "output_type": "stream",
     "text": [
      "Current Number:  1\n",
      "Current Number:  2\n",
      "Current Number:  3\n",
      "Current Number:  4\n",
      "execute\n"
     ]
    }
   ],
   "source": [
    "# If break statement is used, then else part won't executed\n",
    "\n",
    "num=list(range(1,11))\n",
    "\n",
    "for i in num: \n",
    "    if i==5: \n",
    "        break\n",
    "    print(\"Current Number: \", i)\n",
    "else:\n",
    "    print(\"This is else part\")\n",
    "    \n",
    "print('execute')"
   ]
  },
  {
   "cell_type": "markdown",
   "metadata": {},
   "source": [
    "## Continue Statement\n",
    "\n",
    "It returns the control to the beginning of the while loop"
   ]
  },
  {
   "cell_type": "code",
   "execution_count": 2,
   "metadata": {},
   "outputs": [
    {
     "name": "stdout",
     "output_type": "stream",
     "text": [
      "P\n",
      "y\n",
      "t\n",
      "o\n",
      "n\n"
     ]
    }
   ],
   "source": [
    "for char in \"Python\": \n",
    "    if char == 'h': \n",
    "        continue\n",
    "        print(\"I'm in if block\")\n",
    "    print(char)"
   ]
  },
  {
   "cell_type": "markdown",
   "metadata": {},
   "source": [
    "## Pass Statement\n",
    "\n",
    "This is used to keep a placeholder in the code."
   ]
  },
  {
   "cell_type": "code",
   "execution_count": 3,
   "metadata": {},
   "outputs": [
    {
     "name": "stdout",
     "output_type": "stream",
     "text": [
      "Pass block:  0\n",
      "Numbers are : 1\n",
      "Pass block:  2\n",
      "Numbers are : 3\n",
      "Pass block:  4\n",
      "Numbers are : 5\n",
      "Pass block:  6\n",
      "Numbers are : 7\n",
      "Pass block:  8\n",
      "Numbers are : 9\n"
     ]
    }
   ],
   "source": [
    "for num in range(0,10): \n",
    "    \n",
    "    if num % 2 == 0: \n",
    "        pass                           # Nothing will happen due to pass, its like placeholder\n",
    "        print(\"Pass block: \", num)\n",
    "    else: \n",
    "        print(\"Numbers are :\", num)"
   ]
  },
  {
   "cell_type": "code",
   "execution_count": null,
   "metadata": {},
   "outputs": [],
   "source": []
  }
 ],
 "metadata": {
  "kernelspec": {
   "display_name": "Python 3",
   "language": "python",
   "name": "python3"
  },
  "language_info": {
   "codemirror_mode": {
    "name": "ipython",
    "version": 3
   },
   "file_extension": ".py",
   "mimetype": "text/x-python",
   "name": "python",
   "nbconvert_exporter": "python",
   "pygments_lexer": "ipython3",
   "version": "3.7.7"
  }
 },
 "nbformat": 4,
 "nbformat_minor": 4
}
