{
 "cells": [
  {
   "cell_type": "markdown",
   "metadata": {},
   "source": [
    "## Python Assignment Operators"
   ]
  },
  {
   "cell_type": "markdown",
   "metadata": {},
   "source": [
    "### = Operator"
   ]
  },
  {
   "cell_type": "code",
   "execution_count": 1,
   "metadata": {},
   "outputs": [
    {
     "name": "stdout",
     "output_type": "stream",
     "text": [
      "The Result is:  15 + 26 = 41\n"
     ]
    }
   ],
   "source": [
    "#--------- Assigning value to variable Number 1 --------------\n",
    "num1=15\n",
    "\n",
    "#---------  Assigning value to variable Number 2 --------------\n",
    "num2=26\n",
    "\n",
    "#---------  Add Two variables by using Addition (+) Operator --------------\n",
    "add=num1+num2\n",
    "\n",
    "print(\"The Result is:  {} + {} = {}\".format(num1, num2, add))"
   ]
  },
  {
   "cell_type": "markdown",
   "metadata": {},
   "source": [
    "### += Operator"
   ]
  },
  {
   "cell_type": "code",
   "execution_count": 2,
   "metadata": {},
   "outputs": [
    {
     "name": "stdout",
     "output_type": "stream",
     "text": [
      "The Result Before: 50\n",
      "The Result After: 60\n"
     ]
    }
   ],
   "source": [
    "#--------- Assigning value to variable Number 1 --------------\n",
    "num1=50\n",
    "\n",
    "print(\"The Result Before: {}\".format(num1))\n",
    "\n",
    "#---------  Using (+=) Operator --------------\n",
    "\n",
    "num1 += 10   # Equivalent to num1 = num1 + 10\n",
    "\n",
    "print(\"The Result After: {}\".format(num1))"
   ]
  },
  {
   "cell_type": "markdown",
   "metadata": {},
   "source": [
    "### -= Operator"
   ]
  },
  {
   "cell_type": "code",
   "execution_count": 3,
   "metadata": {},
   "outputs": [
    {
     "name": "stdout",
     "output_type": "stream",
     "text": [
      "The Result Before: 50\n",
      "The Result After: 40\n"
     ]
    }
   ],
   "source": [
    "#--------- Assigning value to variable Number 1 --------------\n",
    "num1=50\n",
    "\n",
    "print(\"The Result Before: {}\".format(num1))\n",
    "\n",
    "#---------  Using (-=) Operator --------------\n",
    "\n",
    "num1 -= 10   # Equivalent to num1 = num1 - 10\n",
    "\n",
    "print(\"The Result After: {}\".format(num1))"
   ]
  },
  {
   "cell_type": "markdown",
   "metadata": {},
   "source": [
    "### Multiplication Operator"
   ]
  },
  {
   "cell_type": "code",
   "execution_count": 4,
   "metadata": {},
   "outputs": [
    {
     "name": "stdout",
     "output_type": "stream",
     "text": [
      "The Result Before: 50\n",
      "The Result After: 500\n"
     ]
    }
   ],
   "source": [
    "#--------- Assigning value to variable Number 1 --------------\n",
    "num1=50\n",
    "\n",
    "print(\"The Result Before: {}\".format(num1))\n",
    "\n",
    "#---------  Using (*=) Operator --------------\n",
    "\n",
    "num1 *= 10   # Equivalent to num1 = num1 - 10\n",
    "\n",
    "print(\"The Result After: {}\".format(num1))"
   ]
  },
  {
   "cell_type": "markdown",
   "metadata": {},
   "source": [
    "### Division Operator"
   ]
  },
  {
   "cell_type": "code",
   "execution_count": 5,
   "metadata": {},
   "outputs": [
    {
     "name": "stdout",
     "output_type": "stream",
     "text": [
      "The Result Before: 50\n",
      "The Result After: 5.0\n"
     ]
    }
   ],
   "source": [
    "#--------- Assigning value to variable Number 1 --------------\n",
    "num1=50\n",
    "\n",
    "print(\"The Result Before: {}\".format(num1))\n",
    "\n",
    "#---------  Using (/=) Operator --------------\n",
    "\n",
    "num1 /= 10   # Equivalent to num1 = num1 - 10\n",
    "\n",
    "print(\"The Result After: {}\".format(num1))"
   ]
  },
  {
   "cell_type": "markdown",
   "metadata": {},
   "source": [
    "### Modulus Operator\n",
    "\n",
    "This operator returns the remainder"
   ]
  },
  {
   "cell_type": "code",
   "execution_count": 6,
   "metadata": {},
   "outputs": [
    {
     "name": "stdout",
     "output_type": "stream",
     "text": [
      "The Result Before: 51\n",
      "The Result After: 1\n"
     ]
    }
   ],
   "source": [
    "#--------- Assigning value to variable Number 1 --------------\n",
    "num1=51\n",
    "\n",
    "print(\"The Result Before: {}\".format(num1))\n",
    "\n",
    "#---------  Using (%=) Operator --------------\n",
    "\n",
    "num1 %= 10   # Equivalent to num1 = num1 - 10\n",
    "\n",
    "print(\"The Result After: {}\".format(num1))"
   ]
  },
  {
   "cell_type": "markdown",
   "metadata": {},
   "source": [
    "### Exponent Operator\n",
    "\n",
    "It returns exponential or power of the number e.g. 10 ** 2 = 100, 2 ** 3 = 8"
   ]
  },
  {
   "cell_type": "code",
   "execution_count": 7,
   "metadata": {},
   "outputs": [
    {
     "name": "stdout",
     "output_type": "stream",
     "text": [
      "The Result Before: 5\n",
      "The Result After: 125\n"
     ]
    }
   ],
   "source": [
    "#--------- Assigning value to variable Number 1 --------------\n",
    "num1=5\n",
    "\n",
    "print(\"The Result Before: {}\".format(num1))\n",
    "\n",
    "#---------  Using (**=) Operator --------------\n",
    "\n",
    "num1 **= 3   # Equivalent to num1 = num1 - 10\n",
    "\n",
    "print(\"The Result After: {}\".format(num1))"
   ]
  },
  {
   "cell_type": "markdown",
   "metadata": {},
   "source": [
    "### Floor Division Operator"
   ]
  },
  {
   "cell_type": "code",
   "execution_count": 8,
   "metadata": {},
   "outputs": [
    {
     "name": "stdout",
     "output_type": "stream",
     "text": [
      "The Result Before: 11\n",
      "The Result After: 5\n"
     ]
    }
   ],
   "source": [
    "#--------- Assigning value to variable Number 1 --------------\n",
    "num1=11\n",
    "\n",
    "print(\"The Result Before: {}\".format(num1))\n",
    "\n",
    "#---------  Using (//=) Operator --------------\n",
    "\n",
    "num1 //= 2   # Equivalent to num1 = num1 - 10\n",
    "\n",
    "print(\"The Result After: {}\".format(num1))"
   ]
  },
  {
   "cell_type": "code",
   "execution_count": null,
   "metadata": {},
   "outputs": [],
   "source": []
  }
 ],
 "metadata": {
  "kernelspec": {
   "display_name": "Python 3",
   "language": "python",
   "name": "python3"
  },
  "language_info": {
   "codemirror_mode": {
    "name": "ipython",
    "version": 3
   },
   "file_extension": ".py",
   "mimetype": "text/x-python",
   "name": "python",
   "nbconvert_exporter": "python",
   "pygments_lexer": "ipython3",
   "version": "3.7.7"
  }
 },
 "nbformat": 4,
 "nbformat_minor": 4
}
